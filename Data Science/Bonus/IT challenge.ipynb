{
 "cells": [
  {
   "cell_type": "code",
   "execution_count": 127,
   "metadata": {},
   "outputs": [
    {
     "data": {
      "text/plain": [
       "166609"
      ]
     },
     "execution_count": 127,
     "metadata": {},
     "output_type": "execute_result"
    }
   ],
   "source": [
    "import pandas as pd\n",
    "import matplotlib.pyplot as plt\n",
    "\n",
    "racesCreateDateparse = lambda x: pd.datetime.strptime(x, '%d.%m.%Y')\n",
    "racesCreated = pd.read_csv(\"races.csv\", sep=\";\",parse_dates=['race_created'],date_parser=racesCreateDateparse, usecols=['id','race_created'])\n",
    "racesCreated.dropna(how=\"all\")\n",
    "createdRacesSize = racesCreated['race_created'].size\n",
    "createdRacesSize\n",
    "\n",
    "#read csv\n",
    "#allRaces = pd.read_csv(\"races.csv\")\n",
    "#allRaces.size"
   ]
  },
  {
   "cell_type": "code",
   "execution_count": 128,
   "metadata": {},
   "outputs": [
    {
     "data": {
      "text/plain": [
       "109099"
      ]
     },
     "execution_count": 128,
     "metadata": {},
     "output_type": "execute_result"
    }
   ],
   "source": [
    "drivenRaces = pd.read_csv(\"races.csv\", sep=\";\", usecols=['id','race_driven'])\n",
    "#drivenRaces.dropna(how=\"all\")\n",
    "\n",
    "#validate dataframe\n",
    "drivenRacesWithValidTimeStamps = drivenRaces.loc[drivenRaces['race_driven'] != \"0000-00-00 00:00:00\"]\n",
    "drivenRacesSize = drivenRacesWithValidTimeStamps['race_driven'].size\n",
    "drivenRacesSize"
   ]
  },
  {
   "cell_type": "code",
   "execution_count": null,
   "metadata": {},
   "outputs": [],
   "source": []
  },
  {
   "cell_type": "code",
   "execution_count": 129,
   "metadata": {},
   "outputs": [
    {
     "data": {
      "text/plain": [
       "57510"
      ]
     },
     "execution_count": 129,
     "metadata": {},
     "output_type": "execute_result"
    }
   ],
   "source": [
    "createdButNotDrivenRaces = createdRacesSize - drivenRacesSize\n",
    "createdButNotDrivenRaces"
   ]
  },
  {
   "cell_type": "markdown",
   "metadata": {},
   "source": [
    "### Absprungrate von ca 30 %"
   ]
  },
  {
   "cell_type": "code",
   "execution_count": 130,
   "metadata": {},
   "outputs": [
    {
     "data": {
      "text/plain": [
       "Timestamp('2012-03-06 00:00:00')"
      ]
     },
     "execution_count": 130,
     "metadata": {},
     "output_type": "execute_result"
    }
   ],
   "source": [
    "firstCreatedRace = min(racesCreated['race_created'])\n",
    "firstCreatedRace"
   ]
  },
  {
   "cell_type": "code",
   "execution_count": 131,
   "metadata": {},
   "outputs": [
    {
     "data": {
      "text/plain": [
       "Timestamp('2017-06-27 00:00:00')"
      ]
     },
     "execution_count": 131,
     "metadata": {},
     "output_type": "execute_result"
    }
   ],
   "source": [
    "lastCreatedRace = max(racesCreated['race_created'])\n",
    "lastCreatedRace"
   ]
  },
  {
   "cell_type": "code",
   "execution_count": 132,
   "metadata": {},
   "outputs": [
    {
     "data": {
      "text/plain": [
       "1303"
      ]
     },
     "execution_count": 132,
     "metadata": {},
     "output_type": "execute_result"
    }
   ],
   "source": [
    "#maximal erstellte Rennen\n",
    "max(racesCreated['race_created'].value_counts().sort_index())"
   ]
  },
  {
   "cell_type": "code",
   "execution_count": 133,
   "metadata": {},
   "outputs": [
    {
     "data": {
      "text/plain": [
       "57510"
      ]
     },
     "execution_count": 133,
     "metadata": {},
     "output_type": "execute_result"
    }
   ],
   "source": [
    "createdButNotDrivenRaces"
   ]
  },
  {
   "cell_type": "code",
   "execution_count": 155,
   "metadata": {},
   "outputs": [
    {
     "data": {
      "text/html": [
       "<div>\n",
       "<style scoped>\n",
       "    .dataframe tbody tr th:only-of-type {\n",
       "        vertical-align: middle;\n",
       "    }\n",
       "\n",
       "    .dataframe tbody tr th {\n",
       "        vertical-align: top;\n",
       "    }\n",
       "\n",
       "    .dataframe thead th {\n",
       "        text-align: right;\n",
       "    }\n",
       "</style>\n",
       "<table border=\"1\" class=\"dataframe\">\n",
       "  <thead>\n",
       "    <tr style=\"text-align: right;\">\n",
       "      <th></th>\n",
       "      <th>race_created</th>\n",
       "    </tr>\n",
       "  </thead>\n",
       "  <tbody>\n",
       "    <tr>\n",
       "      <th>2012-03-08</th>\n",
       "      <td>1303</td>\n",
       "    </tr>\n",
       "    <tr>\n",
       "      <th>2012-03-07</th>\n",
       "      <td>1158</td>\n",
       "    </tr>\n",
       "    <tr>\n",
       "      <th>2012-12-11</th>\n",
       "      <td>938</td>\n",
       "    </tr>\n",
       "    <tr>\n",
       "      <th>2012-12-17</th>\n",
       "      <td>922</td>\n",
       "    </tr>\n",
       "    <tr>\n",
       "      <th>2012-03-06</th>\n",
       "      <td>891</td>\n",
       "    </tr>\n",
       "  </tbody>\n",
       "</table>\n",
       "</div>"
      ],
      "text/plain": [
       "            race_created\n",
       "2012-03-08          1303\n",
       "2012-03-07          1158\n",
       "2012-12-11           938\n",
       "2012-12-17           922\n",
       "2012-03-06           891"
      ]
     },
     "execution_count": 155,
     "metadata": {},
     "output_type": "execute_result"
    }
   ],
   "source": [
    "sumOfSameRacesAtOneDay = racesCreated['race_created'].value_counts()\n",
    "sumOfSameRacesAtOneDay.head().to_frame()"
   ]
  },
  {
   "cell_type": "code",
   "execution_count": 180,
   "metadata": {},
   "outputs": [
    {
     "data": {
      "text/plain": [
       "<matplotlib.axes._subplots.AxesSubplot at 0x12cc7b6d8>"
      ]
     },
     "execution_count": 180,
     "metadata": {},
     "output_type": "execute_result"
    },
    {
     "data": {
      "image/png": "[encoded data removed]",
      "text/plain": [
       "<matplotlib.figure.Figure at 0x12bd0c898>"
      ]
     },
     "metadata": {},
     "output_type": "display_data"
    }
   ],
   "source": [
    "#top 5, wo am meisten Rennen erstellt worden sind\n",
    "sumOfSameRacesAtOneDay.loc[lambda x : x>800].sort_index().plot.bar()"
   ]
  },
  {
   "cell_type": "code",
   "execution_count": 187,
   "metadata": {},
   "outputs": [
    {
     "data": {
      "text/plain": [
       "0        891\n",
       "1       1158\n",
       "2       1303\n",
       "3        799\n",
       "4        750\n",
       "5        733\n",
       "6        762\n",
       "7        711\n",
       "8        532\n",
       "9        650\n",
       "10       474\n",
       "11       561\n",
       "12       399\n",
       "13       407\n",
       "14       333\n",
       "15       295\n",
       "16       240\n",
       "17       142\n",
       "18       207\n",
       "19       267\n",
       "20       297\n",
       "21       327\n",
       "22       242\n",
       "23       270\n",
       "24       197\n",
       "25       173\n",
       "26       183\n",
       "27       270\n",
       "28       200\n",
       "29       174\n",
       "        ... \n",
       "1584       2\n",
       "1585       3\n",
       "1586       3\n",
       "1587       1\n",
       "1588       2\n",
       "1589       6\n",
       "1590       4\n",
       "1591       1\n",
       "1592       6\n",
       "1593       8\n",
       "1594       1\n",
       "1595       1\n",
       "1596       1\n",
       "1597       4\n",
       "1598       3\n",
       "1599       2\n",
       "1600       3\n",
       "1601       3\n",
       "1602       1\n",
       "1603       3\n",
       "1604       2\n",
       "1605       3\n",
       "1606       3\n",
       "1607       1\n",
       "1608       1\n",
       "1609       3\n",
       "1610       2\n",
       "1611       1\n",
       "1612       1\n",
       "1613       1\n",
       "Name: race_created, Length: 1614, dtype: int64"
      ]
     },
     "execution_count": 187,
     "metadata": {},
     "output_type": "execute_result"
    }
   ],
   "source": [
    "test = racesCreated['race_created'].value_counts().sort_index().reset_index()\n",
    "test.race_created\n"
   ]
  },
  {
   "cell_type": "code",
   "execution_count": 188,
   "metadata": {},
   "outputs": [],
   "source": [
    "%matplotlib inline\n",
    "import matplotlib.pyplot as plt\n",
    "plt.style.use('seaborn-whitegrid')\n",
    "import numpy as np"
   ]
  },
  {
   "cell_type": "code",
   "execution_count": 189,
   "metadata": {},
   "outputs": [
    {
     "data": {
      "text/plain": [
       "[<matplotlib.lines.Line2D at 0x12d8c7128>]"
      ]
     },
     "execution_count": 189,
     "metadata": {},
     "output_type": "execute_result"
    },
    {
     "data": {
      "image/png": "[encoded data removed]",
      "text/plain": [
       "<matplotlib.figure.Figure at 0x12cadf2b0>"
      ]
     },
     "metadata": {},
     "output_type": "display_data"
    }
   ],
   "source": [
    "fig = plt.figure()\n",
    "ax = plt.axes()\n",
    "plt.plot(test.race_created,test.race_created+0,linestyle='solid')"
   ]
  },
  {
   "cell_type": "code",
   "execution_count": 190,
   "metadata": {},
   "outputs": [],
   "source": []
  },
  {
   "cell_type": "code",
   "execution_count": null,
   "metadata": {},
   "outputs": [],
   "source": []
  },
  {
   "cell_type": "code",
   "execution_count": 120,
   "metadata": {},
   "outputs": [],
   "source": []
  },
  {
   "cell_type": "code",
   "execution_count": null,
   "metadata": {},
   "outputs": [],
   "source": []
  },
  {
   "cell_type": "code",
   "execution_count": null,
   "metadata": {},
   "outputs": [],
   "source": []
  },
  {
   "cell_type": "code",
   "execution_count": null,
   "metadata": {},
   "outputs": [],
   "source": []
  },
  {
   "cell_type": "code",
   "execution_count": null,
   "metadata": {},
   "outputs": [],
   "source": []
  }
 ],
 "metadata": {
  "kernelspec": {
   "display_name": "Python 3",
   "language": "python",
   "name": "python3"
  },
  "language_info": {
   "codemirror_mode": {
    "name": "ipython",
    "version": 3
   },
   "file_extension": ".py",
   "mimetype": "text/x-python",
   "name": "python",
   "nbconvert_exporter": "python",
   "pygments_lexer": "ipython3",
   "version": "3.6.4"
  }
 },
 "nbformat": 4,
 "nbformat_minor": 2
}
