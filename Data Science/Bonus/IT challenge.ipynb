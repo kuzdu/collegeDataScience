{
 "cells": [
  {
   "cell_type": "code",
   "execution_count": null,
   "metadata": {},
   "outputs": [],
   "source": [
    "#read csv\n",
    "import pandas as pd\n",
    "allRaces = pd.read_csv(\"races.csv\")\n",
    "allRaces.size"
   ]
  },
  {
   "cell_type": "code",
   "execution_count": null,
   "metadata": {},
   "outputs": [],
   "source": [
    "drivenRaces = pd.read_csv(\"races.csv\", sep=\";\", usecols=['id','race_driven'])\n",
    "drivenRaces.dropna(how=\"all\")\n",
    "\n",
    "#validate dataframe\n",
    "drivenRacesWithValidTimeStamps = drivenRaces.loc[drivenRaces['race_driven'] != \"0000-00-00 00:00:00\"]\n",
    "drivenRacesWithValidTimeStamps"
   ]
  },
  {
   "cell_type": "code",
   "execution_count": null,
   "metadata": {},
   "outputs": [],
   "source": [
    "firstDrivenRace = min(drivenRacesWithValidTimeStamps['race_driven'])\n",
    "firstDrivenRace"
   ]
  },
  {
   "cell_type": "code",
   "execution_count": null,
   "metadata": {},
   "outputs": [],
   "source": [
    "lastDrivenRace = max(drivenRacesWithValidTimeStamps['race_driven'])\n",
    "lastDrivenRace"
   ]
  },
  {
   "cell_type": "code",
   "execution_count": null,
   "metadata": {},
   "outputs": [],
   "source": [
    "drivenRacesWithValidTimeStamps.loc[:,'race_driven'] = pd.DataFrame(drivenRacesWithValidTimeStamps['race_driven'])\n",
    "drivenRacesWithValidTimeStamps.loc[:,'race_driven'] = pd.to_datetime(drivenRacesWithValidTimeStamps['race_driven']).dt.date\n",
    "#drivenRacesWithValidTimeStamps\n",
    "\n",
    "driven_races_per_day = drivenRacesWithValidTimeStamps['race_driven'].value_counts().sort_index()\n",
    "driven_races_per_day\n"
   ]
  },
  {
   "cell_type": "code",
   "execution_count": 70,
   "metadata": {},
   "outputs": [],
   "source": []
  },
  {
   "cell_type": "code",
   "execution_count": null,
   "metadata": {},
   "outputs": [],
   "source": []
  }
 ],
 "metadata": {
  "kernelspec": {
   "display_name": "Python 3",
   "language": "python",
   "name": "python3"
  },
  "language_info": {
   "codemirror_mode": {
    "name": "ipython",
    "version": 3
   },
   "file_extension": ".py",
   "mimetype": "text/x-python",
   "name": "python",
   "nbconvert_exporter": "python",
   "pygments_lexer": "ipython3",
   "version": "3.6.4"
  }
 },
 "nbformat": 4,
 "nbformat_minor": 2
}
