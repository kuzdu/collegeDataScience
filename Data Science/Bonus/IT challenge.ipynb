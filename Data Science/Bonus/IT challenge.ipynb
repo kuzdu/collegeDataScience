{
 "cells": [
  {
   "cell_type": "code",
   "execution_count": 50,
   "metadata": {},
   "outputs": [
    {
     "data": {
      "text/plain": [
       "166609"
      ]
     },
     "execution_count": 50,
     "metadata": {},
     "output_type": "execute_result"
    }
   ],
   "source": [
    "import pandas as pd\n",
    "import matplotlib.pyplot as plt\n",
    "\n",
    "racesCreateDateparse = lambda x: pd.datetime.strptime(x, '%d.%m.%Y')\n",
    "racesCreated = pd.read_csv(\"races.csv\", sep=\";\",parse_dates=['race_created'],date_parser=racesCreateDateparse, usecols=['id','race_created'])\n",
    "racesCreated.dropna(how=\"all\")\n",
    "createdRacesSize = racesCreated['race_created'].size\n",
    "createdRacesSize\n",
    "\n",
    "#read csv\n",
    "#allRaces = pd.read_csv(\"races.csv\")\n",
    "#allRaces.size"
   ]
  },
  {
   "cell_type": "code",
   "execution_count": 51,
   "metadata": {},
   "outputs": [
    {
     "data": {
      "text/plain": [
       "109099"
      ]
     },
     "execution_count": 51,
     "metadata": {},
     "output_type": "execute_result"
    }
   ],
   "source": [
    "drivenRaces = pd.read_csv(\"races.csv\", sep=\";\", usecols=['id','race_driven'])\n",
    "#drivenRaces.dropna(how=\"all\")\n",
    "\n",
    "#validate dataframe\n",
    "drivenRacesWithValidTimeStamps = drivenRaces.loc[drivenRaces['race_driven'] != \"0000-00-00 00:00:00\"]\n",
    "drivenRacesSize = drivenRacesWithValidTimeStamps['race_driven'].size\n",
    "drivenRacesSize"
   ]
  },
  {
   "cell_type": "code",
   "execution_count": 52,
   "metadata": {},
   "outputs": [
    {
     "data": {
      "text/plain": [
       "57510"
      ]
     },
     "execution_count": 52,
     "metadata": {},
     "output_type": "execute_result"
    }
   ],
   "source": [
    "createdButNotDrivenRaces = createdRacesSize - drivenRacesSize\n",
    "createdButNotDrivenRaces"
   ]
  },
  {
   "cell_type": "markdown",
   "metadata": {},
   "source": [
    "### Absprungrate von ca 30 %"
   ]
  },
  {
   "cell_type": "code",
   "execution_count": 53,
   "metadata": {},
   "outputs": [
    {
     "data": {
      "text/plain": [
       "Timestamp('2012-03-06 00:00:00')"
      ]
     },
     "execution_count": 53,
     "metadata": {},
     "output_type": "execute_result"
    }
   ],
   "source": [
    "firstCreatedRace = min(racesCreated['race_created'])\n",
    "firstCreatedRace"
   ]
  },
  {
   "cell_type": "code",
   "execution_count": 54,
   "metadata": {},
   "outputs": [
    {
     "data": {
      "text/plain": [
       "Timestamp('2017-06-27 00:00:00')"
      ]
     },
     "execution_count": 54,
     "metadata": {},
     "output_type": "execute_result"
    }
   ],
   "source": [
    "lastCreatedRace = max(racesCreated['race_created'])\n",
    "lastCreatedRace"
   ]
  },
  {
   "cell_type": "code",
   "execution_count": 58,
   "metadata": {},
   "outputs": [
    {
     "ename": "AttributeError",
     "evalue": "'SeriesPlotMethods' object has no attribute 'diff'",
     "output_type": "error",
     "traceback": [
      "\u001b[0;31m---------------------------------------------------------------------------\u001b[0m",
      "\u001b[0;31mAttributeError\u001b[0m                            Traceback (most recent call last)",
      "\u001b[0;32m<ipython-input-58-a7a6a4a16a3b>\u001b[0m in \u001b[0;36m<module>\u001b[0;34m()\u001b[0m\n\u001b[1;32m      4\u001b[0m \u001b[0;34m\u001b[0m\u001b[0m\n\u001b[1;32m      5\u001b[0m \u001b[0;31m#racesCreated['race_created'].value_counts().sort_index().plot.bar()\u001b[0m\u001b[0;34m\u001b[0m\u001b[0;34m\u001b[0m\u001b[0m\n\u001b[0;32m----> 6\u001b[0;31m \u001b[0mracesCreated\u001b[0m\u001b[0;34m[\u001b[0m\u001b[0;34m'race_created'\u001b[0m\u001b[0;34m]\u001b[0m\u001b[0;34m.\u001b[0m\u001b[0mvalue_counts\u001b[0m\u001b[0;34m(\u001b[0m\u001b[0;34m)\u001b[0m\u001b[0;34m.\u001b[0m\u001b[0msort_index\u001b[0m\u001b[0;34m(\u001b[0m\u001b[0;34m)\u001b[0m\u001b[0;34m.\u001b[0m\u001b[0mplot\u001b[0m\u001b[0;34m.\u001b[0m\u001b[0mdiff\u001b[0m\u001b[0;34m(\u001b[0m\u001b[0;34m)\u001b[0m\u001b[0;34m.\u001b[0m\u001b[0mhist\u001b[0m\u001b[0;34m(\u001b[0m\u001b[0mcolor\u001b[0m\u001b[0;34m=\u001b[0m\u001b[0;34m'k'\u001b[0m\u001b[0;34m,\u001b[0m \u001b[0malpha\u001b[0m\u001b[0;34m=\u001b[0m\u001b[0;36m0.5\u001b[0m\u001b[0;34m,\u001b[0m \u001b[0mbins\u001b[0m\u001b[0;34m=\u001b[0m\u001b[0;36m50\u001b[0m\u001b[0;34m)\u001b[0m\u001b[0;34m\u001b[0m\u001b[0m\n\u001b[0m",
      "\u001b[0;31mAttributeError\u001b[0m: 'SeriesPlotMethods' object has no attribute 'diff'"
     ]
    }
   ],
   "source": [
    "#maximal erstellte Rennen\n",
    "max(racesCreated['race_created'].value_counts().sort_index())\n",
    "\n",
    "\n",
    "racesCreated['race_created'].value_counts().sort_index().plot.bar()"
   ]
  },
  {
   "cell_type": "code",
   "execution_count": null,
   "metadata": {},
   "outputs": [],
   "source": []
  },
  {
   "cell_type": "code",
   "execution_count": 42,
   "metadata": {},
   "outputs": [],
   "source": [
    "#drivenRacesWithValidTimeStamps.loc[:,'race_driven'] = pd.DataFrame(drivenRacesWithValidTimeStamps['race_driven'])\n",
    "#drivenRacesWithValidTimeStamps.loc[:,'race_driven'] = pd.to_datetime(drivenRacesWithValidTimeStamps['race_driven']).dt.date\n",
    "#drivenRacesWithValidTimeStamps\n",
    "#drivenRacesWithValidTimeStamps\n",
    "\n",
    "#firstDrivenRace = min(drivenRacesWithValidTimeStamps['race_driven'])\n",
    "#driven_races_per_day = drivenRacesWithValidTimeStamps['race_driven'].value_counts().sort_index()\n",
    "#driven_races_per_day\n"
   ]
  },
  {
   "cell_type": "code",
   "execution_count": null,
   "metadata": {},
   "outputs": [],
   "source": []
  },
  {
   "cell_type": "code",
   "execution_count": null,
   "metadata": {},
   "outputs": [],
   "source": []
  },
  {
   "cell_type": "code",
   "execution_count": null,
   "metadata": {},
   "outputs": [],
   "source": []
  }
 ],
 "metadata": {
  "kernelspec": {
   "display_name": "Python 3",
   "language": "python",
   "name": "python3"
  },
  "language_info": {
   "codemirror_mode": {
    "name": "ipython",
    "version": 3
   },
   "file_extension": ".py",
   "mimetype": "text/x-python",
   "name": "python",
   "nbconvert_exporter": "python",
   "pygments_lexer": "ipython3",
   "version": "3.6.4"
  }
 },
 "nbformat": 4,
 "nbformat_minor": 2
}
